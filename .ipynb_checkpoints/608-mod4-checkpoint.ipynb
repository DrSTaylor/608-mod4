{
 "cells": [
  {
   "cell_type": "markdown",
   "id": "e93e3ec2-2435-400f-bf4d-f236b000b9e4",
   "metadata": {},
   "source": [
    "5.3 Tuples"
   ]
  },
  {
   "cell_type": "code",
   "execution_count": null,
   "id": "565d3cf2-40cb-4e8f-ab9a-f344cb162d3b",
   "metadata": {},
   "outputs": [],
   "source": [
    "student_tuple = ()"
   ]
  },
  {
   "cell_type": "code",
   "execution_count": null,
   "id": "2ee9514b-313c-494a-959e-2379710ed869",
   "metadata": {},
   "outputs": [],
   "source": [
    "student_tuple"
   ]
  },
  {
   "cell_type": "code",
   "execution_count": null,
   "id": "bfc133ef-4db8-48ed-b47a-f098963f3b87",
   "metadata": {},
   "outputs": [],
   "source": [
    "len(student_tuple)"
   ]
  },
  {
   "cell_type": "code",
   "execution_count": null,
   "id": "5400d465-3d77-4381-b6cd-bd926adbfbf8",
   "metadata": {},
   "outputs": [],
   "source": [
    "student_tuple = 'John', 'Green', 3.3"
   ]
  },
  {
   "cell_type": "code",
   "execution_count": null,
   "id": "07294cd0-e11b-47ad-8787-454e9afea08a",
   "metadata": {},
   "outputs": [],
   "source": [
    "student_tuple"
   ]
  },
  {
   "cell_type": "code",
   "execution_count": null,
   "id": "40b949e0-4247-42d7-bf8d-17a2c3934512",
   "metadata": {},
   "outputs": [],
   "source": [
    "len(student_tuple)"
   ]
  },
  {
   "cell_type": "code",
   "execution_count": null,
   "id": "d4a5b0ed-8522-41ab-bab6-4a363df3aa9b",
   "metadata": {},
   "outputs": [],
   "source": [
    "another_student_tuple = ('Mary', 'Red', 3.3)"
   ]
  },
  {
   "cell_type": "code",
   "execution_count": null,
   "id": "38d99d08-bf7e-4cd1-a7c7-14b2f5ff8c96",
   "metadata": {},
   "outputs": [],
   "source": [
    "another_student_tuple "
   ]
  },
  {
   "cell_type": "code",
   "execution_count": null,
   "id": "d77c8def-a97d-40db-a0bb-f6b9ee6e4354",
   "metadata": {},
   "outputs": [],
   "source": [
    "a_singleton_tuple = ('red',)"
   ]
  },
  {
   "cell_type": "code",
   "execution_count": null,
   "id": "e9439375-41ee-455b-a7ac-d998b947b3dc",
   "metadata": {},
   "outputs": [],
   "source": [
    "a_singleton_tuple"
   ]
  },
  {
   "cell_type": "code",
   "execution_count": null,
   "id": "a98904ce-d40c-4896-8239-453be2345e71",
   "metadata": {},
   "outputs": [],
   "source": [
    "time_tuple = (9, 16, 1)"
   ]
  },
  {
   "cell_type": "code",
   "execution_count": null,
   "id": "01671fef-5f6c-4063-8ef1-e51a92db81fd",
   "metadata": {},
   "outputs": [],
   "source": [
    "time_tuple"
   ]
  },
  {
   "cell_type": "code",
   "execution_count": null,
   "id": "faf0be1e-1171-4edd-a990-d1f69ed74810",
   "metadata": {},
   "outputs": [],
   "source": [
    "time_tuple[0] * 3600 + time_tuple[1] * 60 + time_tuple[2]"
   ]
  },
  {
   "cell_type": "code",
   "execution_count": null,
   "id": "51f7086e-c403-40ed-8c2d-37c36863e821",
   "metadata": {},
   "outputs": [],
   "source": [
    "tuple1 = (10, 20, 30)"
   ]
  },
  {
   "cell_type": "code",
   "execution_count": null,
   "id": "fd999207-0855-44de-aaf4-3afdae00511c",
   "metadata": {},
   "outputs": [],
   "source": [
    "tuple2 = tuple1"
   ]
  },
  {
   "cell_type": "code",
   "execution_count": null,
   "id": "2dcb636e-3c7e-4ab4-b30a-dc2aefe6f465",
   "metadata": {},
   "outputs": [],
   "source": [
    "tuple2"
   ]
  },
  {
   "cell_type": "code",
   "execution_count": null,
   "id": "8db93e06-63ca-4fd5-b6fa-edaf0fe3f60a",
   "metadata": {},
   "outputs": [],
   "source": [
    "tuple1 += (40, 50)"
   ]
  },
  {
   "cell_type": "code",
   "execution_count": null,
   "id": "eddc2c55-0729-4ab4-9852-6567cd6e57cf",
   "metadata": {},
   "outputs": [],
   "source": [
    "tuple1"
   ]
  },
  {
   "cell_type": "code",
   "execution_count": null,
   "id": "88146d8a-0340-4130-b8bf-5cbdbfa5567d",
   "metadata": {},
   "outputs": [],
   "source": [
    "tuple2"
   ]
  },
  {
   "cell_type": "code",
   "execution_count": null,
   "id": "9d525325-976c-43f4-bd6e-9019d7946596",
   "metadata": {},
   "outputs": [],
   "source": [
    "numbers = [1, 2, 3, 4, 5]"
   ]
  },
  {
   "cell_type": "code",
   "execution_count": null,
   "id": "a10ac122-02ca-4c80-9aac-4bc676ff5ed0",
   "metadata": {},
   "outputs": [],
   "source": [
    "numbers += (6, 7)"
   ]
  },
  {
   "cell_type": "code",
   "execution_count": null,
   "id": "56374946-6912-4dd4-bfeb-8ee3f47afeb8",
   "metadata": {},
   "outputs": [],
   "source": [
    "numbers"
   ]
  },
  {
   "cell_type": "code",
   "execution_count": null,
   "id": "a1daec7d-bf5d-4759-9704-c89a3338a292",
   "metadata": {},
   "outputs": [],
   "source": [
    "student_tuple = ('Amanda', 'Blue', [98, 75, 87])"
   ]
  },
  {
   "cell_type": "code",
   "execution_count": null,
   "id": "a20c87e6-547f-4732-b2f4-7128766dc202",
   "metadata": {},
   "outputs": [],
   "source": [
    "student_tuple"
   ]
  },
  {
   "cell_type": "code",
   "execution_count": null,
   "id": "76b1b9ee-7587-450d-a1cf-9cda749e04fc",
   "metadata": {},
   "outputs": [],
   "source": [
    "student_tuple[2][1] = 85"
   ]
  },
  {
   "cell_type": "code",
   "execution_count": null,
   "id": "bc194132-10fc-44f9-a416-1be6697ea552",
   "metadata": {},
   "outputs": [],
   "source": [
    "student_tuple"
   ]
  },
  {
   "cell_type": "code",
   "execution_count": null,
   "id": "5576497c-996c-412c-9d5e-95953057f63a",
   "metadata": {},
   "outputs": [],
   "source": [
    "single = (123.45,)"
   ]
  },
  {
   "cell_type": "code",
   "execution_count": null,
   "id": "6e9c851e-04f7-479d-8bc9-39b26f0bba72",
   "metadata": {},
   "outputs": [],
   "source": [
    "single"
   ]
  },
  {
   "cell_type": "code",
   "execution_count": null,
   "id": "52bdccfc-e22a-4bcb-ada7-96c3074d278e",
   "metadata": {},
   "outputs": [],
   "source": [
    "[1,2,3] + (4,5,6)"
   ]
  },
  {
   "cell_type": "code",
   "execution_count": null,
   "id": "4ea1cadf-8019-49c5-8ed1-3ee27c856085",
   "metadata": {},
   "outputs": [],
   "source": [
    "student_tuple = ('Amanda', [98, 85, 87])"
   ]
  },
  {
   "cell_type": "code",
   "execution_count": null,
   "id": "19d51abd-88c1-44d7-a682-6178197c7232",
   "metadata": {},
   "outputs": [],
   "source": [
    "first_name, grades = student_tuple"
   ]
  },
  {
   "cell_type": "code",
   "execution_count": null,
   "id": "7cbed1e9-4b43-4563-89a4-94c54c7e1fde",
   "metadata": {},
   "outputs": [],
   "source": [
    "first_name"
   ]
  },
  {
   "cell_type": "code",
   "execution_count": null,
   "id": "bc71e94d-4be1-45ff-88eb-b7ba4dcea71b",
   "metadata": {},
   "outputs": [],
   "source": [
    "grades"
   ]
  },
  {
   "cell_type": "code",
   "execution_count": null,
   "id": "8e337fab-2914-4f55-9c65-db7173c84b7a",
   "metadata": {},
   "outputs": [],
   "source": [
    "first, second = 'hi'"
   ]
  },
  {
   "cell_type": "code",
   "execution_count": null,
   "id": "359cb397-cb47-40c9-b922-71d31c6d3e59",
   "metadata": {},
   "outputs": [],
   "source": [
    "print(f'{first} {second}')"
   ]
  },
  {
   "cell_type": "code",
   "execution_count": null,
   "id": "a499e667-7bda-4c21-a298-1211db6c6152",
   "metadata": {},
   "outputs": [],
   "source": [
    "number1, number2, number3 = [2, 3, 5]"
   ]
  },
  {
   "cell_type": "code",
   "execution_count": null,
   "id": "faa69223-1187-4987-9315-7f82e3c58259",
   "metadata": {},
   "outputs": [],
   "source": [
    "print(f'{number1}  {number2}  {number3}')"
   ]
  },
  {
   "cell_type": "code",
   "execution_count": null,
   "id": "fff65eda-4686-476a-bc68-ddc23fc29836",
   "metadata": {},
   "outputs": [],
   "source": [
    "number1, number2, number3 = range(10, 40, 10)"
   ]
  },
  {
   "cell_type": "code",
   "execution_count": null,
   "id": "8e3d1cc2-b3c5-4f72-b994-ae999c5e0ad3",
   "metadata": {},
   "outputs": [],
   "source": [
    "print(f'{number1}  {number2}  {number3}')"
   ]
  },
  {
   "cell_type": "code",
   "execution_count": null,
   "id": "2f43967a-80ac-4131-a12e-d4d75659e470",
   "metadata": {},
   "outputs": [],
   "source": [
    "number1 = 99"
   ]
  },
  {
   "cell_type": "code",
   "execution_count": null,
   "id": "e3c07237-e16a-4e58-955a-f13f82e3a95f",
   "metadata": {},
   "outputs": [],
   "source": [
    "number2 = 22"
   ]
  },
  {
   "cell_type": "code",
   "execution_count": null,
   "id": "700808d3-a4b7-4de2-ac06-a6c241a2ecbf",
   "metadata": {},
   "outputs": [],
   "source": [
    "number1, number2 = (number2, number1)"
   ]
  },
  {
   "cell_type": "code",
   "execution_count": null,
   "id": "181613a6-8cb1-40b9-8fff-f93d45e85b4e",
   "metadata": {},
   "outputs": [],
   "source": [
    "print(f'number1 = {number1}; number2 = {number2}')"
   ]
  },
  {
   "cell_type": "code",
   "execution_count": null,
   "id": "f9e4bd43-e12a-46b5-b3cc-c679ff140240",
   "metadata": {},
   "outputs": [],
   "source": [
    "colors = ['red', 'orange', 'yellow']\n"
   ]
  },
  {
   "cell_type": "code",
   "execution_count": null,
   "id": "9736b074-fb00-432b-a76d-41f74deadb3b",
   "metadata": {},
   "outputs": [],
   "source": [
    "list(enumerate(colors))"
   ]
  },
  {
   "cell_type": "code",
   "execution_count": null,
   "id": "0204e729-e76e-4bbc-b463-bef25d90afda",
   "metadata": {},
   "outputs": [],
   "source": [
    "tuple(enumerate(colors))"
   ]
  },
  {
   "cell_type": "code",
   "execution_count": null,
   "id": "7dc82cf0-1101-41e6-9a8a-1df49182b14a",
   "metadata": {},
   "outputs": [],
   "source": [
    "for index, value in enumerate(colors):\n",
    "    ...:     print(f'{index}: {value}')"
   ]
  },
  {
   "cell_type": "code",
   "execution_count": null,
   "id": "eb0766b5-6b6e-4f93-b568-d291fa87c53b",
   "metadata": {},
   "outputs": [],
   "source": [
    "\"\"\"Displaying a bar chart\"\"\"\n",
    "numbers = [19, 3, 15, 7, 11]"
   ]
  },
  {
   "cell_type": "code",
   "execution_count": null,
   "id": "a916e4e1-519a-4a94-a512-b37586eef880",
   "metadata": {},
   "outputs": [],
   "source": [
    "print('\\nCreating a bar chart from numbers:')"
   ]
  },
  {
   "cell_type": "code",
   "execution_count": null,
   "id": "a38d62c5-79bf-458b-a14a-be18d7f6f5d4",
   "metadata": {},
   "outputs": [],
   "source": [
    "print(f'Index{\"Value\":>8}   Bar')"
   ]
  },
  {
   "cell_type": "code",
   "execution_count": null,
   "id": "f6aaedf5-bbbf-41ff-a6fc-a9add8f41ddb",
   "metadata": {},
   "outputs": [],
   "source": [
    "for index, value in enumerate(numbers):\n",
    "    print(f'{index:>5}{value:>8}   {\"*\" * value}')"
   ]
  },
  {
   "cell_type": "code",
   "execution_count": null,
   "id": "38749662-3109-49fc-a3d0-47f8d957fb44",
   "metadata": {},
   "outputs": [],
   "source": [
    "'-' * 10"
   ]
  },
  {
   "cell_type": "code",
   "execution_count": null,
   "id": "65a077fc-cba5-4022-a9ae-0dae4d1e2cdd",
   "metadata": {},
   "outputs": [],
   "source": [
    "high_low = ('Monday', 78, 62)"
   ]
  },
  {
   "cell_type": "code",
   "execution_count": null,
   "id": "194a474f-cf8f-478b-92c6-599ec8500ee5",
   "metadata": {},
   "outputs": [],
   "source": [
    "high_low"
   ]
  },
  {
   "cell_type": "code",
   "execution_count": null,
   "id": "51a0fbb6-bae8-4229-b781-4277256542bc",
   "metadata": {},
   "outputs": [],
   "source": [
    "print(f'{high_low[0]}: High={high_low[1]}, Low={high_low[2]}')"
   ]
  },
  {
   "cell_type": "code",
   "execution_count": null,
   "id": "d9324228-0115-4027-a03a-22abc536a85d",
   "metadata": {},
   "outputs": [],
   "source": [
    "day, high, low = high_low"
   ]
  },
  {
   "cell_type": "code",
   "execution_count": null,
   "id": "f1f42113-2dc2-41ba-8004-c8264ab1ff2c",
   "metadata": {},
   "outputs": [],
   "source": [
    "day"
   ]
  },
  {
   "cell_type": "code",
   "execution_count": null,
   "id": "12a41b39-b2c3-49bc-9c01-93786f084c36",
   "metadata": {},
   "outputs": [],
   "source": [
    "high"
   ]
  },
  {
   "cell_type": "code",
   "execution_count": null,
   "id": "9406a835-86e3-4729-a700-43186d955797",
   "metadata": {},
   "outputs": [],
   "source": [
    "low"
   ]
  },
  {
   "cell_type": "code",
   "execution_count": null,
   "id": "09136449-28fc-447b-8948-f17f3cd25289",
   "metadata": {},
   "outputs": [],
   "source": [
    "names = ['Brandon', 'Wyatt', 'Dylan']"
   ]
  },
  {
   "cell_type": "code",
   "execution_count": null,
   "id": "ad37eb80-a4e2-4dde-83bc-95452314bbf8",
   "metadata": {},
   "outputs": [],
   "source": [
    "for i, name in enumerate(names):\n",
    "   ...:     print(f'{i}: {name}')"
   ]
  },
  {
   "cell_type": "markdown",
   "id": "9ce4ebb2-e33e-441b-9f64-81856e961b2a",
   "metadata": {},
   "source": [
    "5.5 Sequence Slicing"
   ]
  },
  {
   "cell_type": "code",
   "execution_count": null,
   "id": "12718902-7157-4324-a798-233523ed02ba",
   "metadata": {},
   "outputs": [],
   "source": []
  },
  {
   "cell_type": "code",
   "execution_count": 1,
   "id": "76664911-2321-4730-841c-9a051fb1eb21",
   "metadata": {},
   "outputs": [],
   "source": [
    "numbers = [2, 3, 5, 7, 11, 13, 17, 19]"
   ]
  },
  {
   "cell_type": "code",
   "execution_count": 2,
   "id": "7199c323-98b8-4da7-8950-a9daa0a62d21",
   "metadata": {},
   "outputs": [
    {
     "data": {
      "text/plain": [
       "[5, 7, 11, 13]"
      ]
     },
     "execution_count": 2,
     "metadata": {},
     "output_type": "execute_result"
    }
   ],
   "source": [
    "numbers[2:6]"
   ]
  },
  {
   "cell_type": "code",
   "execution_count": 3,
   "id": "da9cdc98-80ce-460e-8151-aa662947568b",
   "metadata": {},
   "outputs": [
    {
     "data": {
      "text/plain": [
       "[2, 5, 11, 17]"
      ]
     },
     "execution_count": 3,
     "metadata": {},
     "output_type": "execute_result"
    }
   ],
   "source": [
    "numbers[::2]"
   ]
  },
  {
   "cell_type": "code",
   "execution_count": 4,
   "id": "3d24c5d0-ddb1-4ca8-b82f-98708daa54d3",
   "metadata": {},
   "outputs": [
    {
     "data": {
      "text/plain": [
       "[19, 17, 13, 11, 7, 5, 3, 2]"
      ]
     },
     "execution_count": 4,
     "metadata": {},
     "output_type": "execute_result"
    }
   ],
   "source": [
    "numbers[::-1]"
   ]
  },
  {
   "cell_type": "code",
   "execution_count": 5,
   "id": "19ad9376-49d3-4e14-aa1c-df099cf54063",
   "metadata": {},
   "outputs": [],
   "source": [
    "numbers[0:3] = ['two', 'three', 'five']"
   ]
  },
  {
   "cell_type": "code",
   "execution_count": 6,
   "id": "e58b22c0-5233-4493-98e8-a76780ae57df",
   "metadata": {},
   "outputs": [
    {
     "data": {
      "text/plain": [
       "['two', 'three', 'five', 7, 11, 13, 17, 19]"
      ]
     },
     "execution_count": 6,
     "metadata": {},
     "output_type": "execute_result"
    }
   ],
   "source": [
    "numbers"
   ]
  },
  {
   "cell_type": "code",
   "execution_count": 7,
   "id": "66c95765-30a0-4947-8d2b-75a6fae81797",
   "metadata": {},
   "outputs": [],
   "source": [
    "numbers = list(range(1, 16))"
   ]
  },
  {
   "cell_type": "code",
   "execution_count": 8,
   "id": "f07c6f1f-3eef-424a-97d3-f13fce8d9038",
   "metadata": {},
   "outputs": [
    {
     "data": {
      "text/plain": [
       "[1, 2, 3, 4, 5, 6, 7, 8, 9, 10, 11, 12, 13, 14, 15]"
      ]
     },
     "execution_count": 8,
     "metadata": {},
     "output_type": "execute_result"
    }
   ],
   "source": [
    "numbers"
   ]
  },
  {
   "cell_type": "code",
   "execution_count": 9,
   "id": "b371341a-354b-4370-8a65-c6399e1feb8e",
   "metadata": {},
   "outputs": [
    {
     "data": {
      "text/plain": [
       "[2, 4, 6, 8, 10, 12, 14]"
      ]
     },
     "execution_count": 9,
     "metadata": {},
     "output_type": "execute_result"
    }
   ],
   "source": [
    "numbers[1:len(numbers):2]"
   ]
  },
  {
   "cell_type": "code",
   "execution_count": 10,
   "id": "d397f155-d135-4ca7-9123-efa3008baf55",
   "metadata": {},
   "outputs": [],
   "source": [
    "numbers[5:10] = [0] * len(numbers[5:10])"
   ]
  },
  {
   "cell_type": "code",
   "execution_count": 11,
   "id": "310f9fcd-f98c-4101-82a0-e659ca1f96b2",
   "metadata": {},
   "outputs": [
    {
     "data": {
      "text/plain": [
       "[1, 2, 3, 4, 5, 0, 0, 0, 0, 0, 11, 12, 13, 14, 15]"
      ]
     },
     "execution_count": 11,
     "metadata": {},
     "output_type": "execute_result"
    }
   ],
   "source": [
    "numbers"
   ]
  },
  {
   "cell_type": "code",
   "execution_count": 13,
   "id": "49b36242-6160-4c68-be7e-a80a66b4e6e1",
   "metadata": {},
   "outputs": [],
   "source": [
    "del numbers [:]"
   ]
  },
  {
   "cell_type": "code",
   "execution_count": 14,
   "id": "0f146b8b-c842-43b1-9f1f-b81727890b3a",
   "metadata": {},
   "outputs": [
    {
     "data": {
      "text/plain": [
       "[]"
      ]
     },
     "execution_count": 14,
     "metadata": {},
     "output_type": "execute_result"
    }
   ],
   "source": [
    "numbers "
   ]
  },
  {
   "cell_type": "code",
   "execution_count": 32,
   "id": "b94edcc7-e691-4e71-8893-ea8c3cc7f221",
   "metadata": {},
   "outputs": [],
   "source": [
    "def modify_elements(items):\n",
    "   ...:     \"\"\"\"Multiplies all element values in items by 2.\"\"\"\n",
    "   ...:     for i in range(len(items)):\n",
    "   ...:         items[i] **2"
   ]
  },
  {
   "cell_type": "code",
   "execution_count": 33,
   "id": "6d1ed055-f23f-4de5-a239-aa78f47207c6",
   "metadata": {},
   "outputs": [],
   "source": [
    "numbers = [10, 3, 7, 1, 9]"
   ]
  },
  {
   "cell_type": "code",
   "execution_count": 34,
   "id": "ee6c9e52-d2bd-4e97-89b1-b58f79acf344",
   "metadata": {},
   "outputs": [
    {
     "data": {
      "text/plain": [
       "[10, 3, 7, 1, 9]"
      ]
     },
     "execution_count": 34,
     "metadata": {},
     "output_type": "execute_result"
    }
   ],
   "source": [
    "numbers"
   ]
  },
  {
   "cell_type": "code",
   "execution_count": 35,
   "id": "d51b2ba0-a2bc-4c32-8b60-1eef3a525c91",
   "metadata": {},
   "outputs": [],
   "source": [
    "list3 = [item ** 3 for item in range(1, 6)]"
   ]
  },
  {
   "cell_type": "code",
   "execution_count": 36,
   "id": "c1246b56-e84b-498c-a4f7-6e35145418b0",
   "metadata": {},
   "outputs": [
    {
     "data": {
      "text/plain": [
       "[1, 8, 27, 64, 125]"
      ]
     },
     "execution_count": 36,
     "metadata": {},
     "output_type": "execute_result"
    }
   ],
   "source": [
    "list3"
   ]
  },
  {
   "cell_type": "code",
   "execution_count": 37,
   "id": "0ae389d6-e5aa-49a2-b317-d085cd8a3023",
   "metadata": {},
   "outputs": [],
   "source": [
    "numbers = [10, 3, 7, 1, 9, 4, 2, 8, 5, 6]"
   ]
  },
  {
   "cell_type": "code",
   "execution_count": 38,
   "id": "0bd427bd-4512-4f2e-bd3e-4fe9aa8b083a",
   "metadata": {},
   "outputs": [
    {
     "name": "stdout",
     "output_type": "stream",
     "text": [
      "9  49  1  81  25  "
     ]
    }
   ],
   "source": [
    "for value in (x ** 2 for x in numbers if x % 2 != 0):\n",
    "   ...:     print(value, end='  ')\n",
    "   ...:"
   ]
  },
  {
   "cell_type": "code",
   "execution_count": 39,
   "id": "e598abc4-e6a8-46eb-be92-c940a1614bed",
   "metadata": {},
   "outputs": [],
   "source": [
    "squares_of_odds = (x ** 2 for x in numbers if x % 2 != 0)"
   ]
  },
  {
   "cell_type": "code",
   "execution_count": 41,
   "id": "df0ad0bf-f42d-4a66-b960-eac3241b7391",
   "metadata": {},
   "outputs": [
    {
     "data": {
      "text/plain": [
       "<generator object <genexpr> at 0x0000027AADD5A890>"
      ]
     },
     "execution_count": 41,
     "metadata": {},
     "output_type": "execute_result"
    }
   ],
   "source": [
    "squares_of_odds"
   ]
  },
  {
   "cell_type": "code",
   "execution_count": 42,
   "id": "1c2bebc6-8d93-4dda-bcb5-c8cd380c6bf9",
   "metadata": {},
   "outputs": [
    {
     "data": {
      "text/plain": [
       "[100, 9, 49, 1, 81, 16, 4, 64, 25, 36]"
      ]
     },
     "execution_count": 42,
     "metadata": {},
     "output_type": "execute_result"
    }
   ],
   "source": [
    "list(map(lambda x: x ** 2, numbers))"
   ]
  },
  {
   "cell_type": "code",
   "execution_count": 48,
   "id": "8ecd377d-1855-4fc0-b7d3-222301113e91",
   "metadata": {},
   "outputs": [],
   "source": [
    "fahrenheit = [41,32,212]"
   ]
  },
  {
   "cell_type": "code",
   "execution_count": 49,
   "id": "5657f9ec-434a-45c3-913b-4330599a8bf0",
   "metadata": {},
   "outputs": [
    {
     "data": {
      "text/plain": [
       "[(41, 5.0), (32, 0.0), (212, 100.0)]"
      ]
     },
     "execution_count": 49,
     "metadata": {},
     "output_type": "execute_result"
    }
   ],
   "source": [
    "list(map(lambda x: (x, (x - 32) * 5 / 9), fahrenheit))"
   ]
  },
  {
   "cell_type": "code",
   "execution_count": 50,
   "id": "069560ad-d7c4-436f-9fe2-86c96b1d55d9",
   "metadata": {},
   "outputs": [],
   "source": [
    "numbers = [10, 3, 7, 1, 9, 4, 2, 8, 5, 6]"
   ]
  },
  {
   "cell_type": "code",
   "execution_count": 51,
   "id": "f24c51df-7661-426a-8259-c8b8fac9ead9",
   "metadata": {},
   "outputs": [],
   "source": [
    "reversed_numbers = [item for item in reversed(numbers)]"
   ]
  },
  {
   "cell_type": "code",
   "execution_count": 52,
   "id": "779eb510-74fd-48c3-bcac-b6d006e92092",
   "metadata": {},
   "outputs": [
    {
     "data": {
      "text/plain": [
       "[6, 5, 8, 2, 4, 9, 1, 7, 3, 10]"
      ]
     },
     "execution_count": 52,
     "metadata": {},
     "output_type": "execute_result"
    }
   ],
   "source": [
    "reversed_numbers"
   ]
  },
  {
   "cell_type": "markdown",
   "id": "f4b46aef-8386-4f59-8788-1edc2df5febe",
   "metadata": {},
   "source": [
    "5.16 Two-Dimensional Lists"
   ]
  },
  {
   "cell_type": "code",
   "execution_count": 53,
   "id": "ac3bbfce-3868-4fb0-b5b1-9e20dd73a8f7",
   "metadata": {},
   "outputs": [],
   "source": [
    "a = [[77, 68, 86, 73], [96, 87, 89, 81], [70, 90, 86, 81]]"
   ]
  },
  {
   "cell_type": "code",
   "execution_count": 54,
   "id": "fbed190a-5caa-40d4-b6dc-ad79a1da334a",
   "metadata": {},
   "outputs": [
    {
     "name": "stdout",
     "output_type": "stream",
     "text": [
      "77 68 86 73 \n",
      "96 87 89 81 \n",
      "70 90 86 81 \n"
     ]
    }
   ],
   "source": [
    "for row in a:\n",
    "   ...:     for item in row:\n",
    "   ...:         print(item, end=' ')\n",
    "   ...:     print()"
   ]
  },
  {
   "cell_type": "code",
   "execution_count": 55,
   "id": "4066845b-5abe-4dbc-b54b-b49f55498e7b",
   "metadata": {},
   "outputs": [
    {
     "name": "stdout",
     "output_type": "stream",
     "text": [
      "a[0][0]=77  a[0][1]=68  a[0][2]=86  a[0][3]=73  \n",
      "a[1][0]=96  a[1][1]=87  a[1][2]=89  a[1][3]=81  \n",
      "a[2][0]=70  a[2][1]=90  a[2][2]=86  a[2][3]=81  \n"
     ]
    }
   ],
   "source": [
    "for i, row in enumerate(a):\n",
    "   ...:     for j, item in enumerate(row):\n",
    "   ...:         print(f'a[{i}][{j}]={item} ', end=' ')\n",
    "   ...:     print()"
   ]
  },
  {
   "cell_type": "code",
   "execution_count": 57,
   "id": "20ac27df-88bf-434e-8671-b60010afa394",
   "metadata": {},
   "outputs": [],
   "source": [
    "sales = [[2134,2345,3423],[2345,467,23421]]"
   ]
  },
  {
   "cell_type": "code",
   "execution_count": 59,
   "id": "4f85851b-8fc5-4973-8e59-8ec843f8d5ee",
   "metadata": {},
   "outputs": [],
   "source": [
    "for row in range(len(sales)):\n",
    "    for col in range(len(sales[row])):\n",
    "        sales[row][col] = 0"
   ]
  },
  {
   "cell_type": "code",
   "execution_count": 69,
   "id": "d77556e7-159e-4c8c-9a40-d10392687f30",
   "metadata": {},
   "outputs": [],
   "source": [
    "t = [[10, 7, 3], [20, 4, 17]]"
   ]
  },
  {
   "cell_type": "code",
   "execution_count": 70,
   "id": "b0639669-b9c4-473d-bf9f-fd844ae3c3b6",
   "metadata": {},
   "outputs": [],
   "source": [
    "total = 0"
   ]
  },
  {
   "cell_type": "code",
   "execution_count": 71,
   "id": "9b047b71-54d7-43a9-9080-7edf99d7d8b9",
   "metadata": {},
   "outputs": [],
   "source": [
    "items = 0"
   ]
  },
  {
   "cell_type": "code",
   "execution_count": 72,
   "id": "758704ea-b88a-4684-b61a-c735ba1acccd",
   "metadata": {},
   "outputs": [],
   "source": [
    "for row in t:\n",
    "   ...:     for item in row:\n",
    "   ...:         total += item\n",
    "   ...:         items += 1\n",
    "   ...:"
   ]
  },
  {
   "cell_type": "code",
   "execution_count": 73,
   "id": "622d286b-a7c9-49b7-b28f-527875f42a74",
   "metadata": {},
   "outputs": [
    {
     "data": {
      "text/plain": [
       "10.166666666666666"
      ]
     },
     "execution_count": 73,
     "metadata": {},
     "output_type": "execute_result"
    }
   ],
   "source": [
    "total / items"
   ]
  },
  {
   "cell_type": "code",
   "execution_count": 74,
   "id": "00929446-820e-457d-a185-ba481045143f",
   "metadata": {},
   "outputs": [],
   "source": [
    "total = 0"
   ]
  },
  {
   "cell_type": "code",
   "execution_count": 75,
   "id": "eb49ee1d-701c-438b-9964-30a9cbd64b67",
   "metadata": {},
   "outputs": [],
   "source": [
    "items = 0"
   ]
  },
  {
   "cell_type": "code",
   "execution_count": 76,
   "id": "a504a117-e665-4e81-884a-440bc3714df4",
   "metadata": {},
   "outputs": [],
   "source": [
    "for row in t:\n",
    "   ...:     total += sum(row)\n",
    "   ...:     items += len(row)\n",
    "   ...:"
   ]
  },
  {
   "cell_type": "code",
   "execution_count": 77,
   "id": "f872f0e5-8712-49cc-9de7-4a3d6b2e233a",
   "metadata": {},
   "outputs": [
    {
     "data": {
      "text/plain": [
       "10.166666666666666"
      ]
     },
     "execution_count": 77,
     "metadata": {},
     "output_type": "execute_result"
    }
   ],
   "source": [
    "total / items"
   ]
  },
  {
   "cell_type": "code",
   "execution_count": 78,
   "id": "2ec90009-906a-491a-908e-737444027a2b",
   "metadata": {},
   "outputs": [],
   "source": [
    "country_codes = {'Finland': 'fi', 'South Africa': 'za', 'Nepal': 'np'}"
   ]
  },
  {
   "cell_type": "code",
   "execution_count": 79,
   "id": "cfbf5716-cf0e-439c-b118-727eadf0cab2",
   "metadata": {},
   "outputs": [
    {
     "data": {
      "text/plain": [
       "{'Finland': 'fi', 'South Africa': 'za', 'Nepal': 'np'}"
      ]
     },
     "execution_count": 79,
     "metadata": {},
     "output_type": "execute_result"
    }
   ],
   "source": [
    "country_codes"
   ]
  },
  {
   "cell_type": "code",
   "execution_count": 80,
   "id": "09dd18bc-5c08-44f6-bb69-c46cad52e05d",
   "metadata": {},
   "outputs": [
    {
     "data": {
      "text/plain": [
       "3"
      ]
     },
     "execution_count": 80,
     "metadata": {},
     "output_type": "execute_result"
    }
   ],
   "source": [
    "len(country_codes)"
   ]
  },
  {
   "cell_type": "code",
   "execution_count": 81,
   "id": "90385e5b-f691-420b-a003-1d46bf792b57",
   "metadata": {},
   "outputs": [
    {
     "name": "stdout",
     "output_type": "stream",
     "text": [
      "country_codes is not empty\n"
     ]
    }
   ],
   "source": [
    "if country_codes: \n",
    "    print('country_codes is not empty')\n",
    "else:\n",
    "    print('country_codes is empty')"
   ]
  },
  {
   "cell_type": "code",
   "execution_count": 82,
   "id": "7ae2f27c-e0b9-4d4f-aee7-15db07b47f87",
   "metadata": {},
   "outputs": [],
   "source": [
    "country_codes.clear()"
   ]
  },
  {
   "cell_type": "code",
   "execution_count": 83,
   "id": "9b5d65fd-06a8-462d-9e35-2ad21fe8f396",
   "metadata": {},
   "outputs": [
    {
     "name": "stdout",
     "output_type": "stream",
     "text": [
      "country_codes is empty\n"
     ]
    }
   ],
   "source": [
    "if country_codes: \n",
    "    print('country_codes is not empty')\n",
    "else:\n",
    "    print('country_codes is empty')"
   ]
  },
  {
   "cell_type": "code",
   "execution_count": 84,
   "id": "1e8bd09b-5ecc-42dc-96d0-8f16ac44367b",
   "metadata": {},
   "outputs": [],
   "source": [
    "days_per_month = {'January': 31, 'February': 28, 'March':30}"
   ]
  },
  {
   "cell_type": "code",
   "execution_count": 85,
   "id": "a471d9c0-0f51-452c-8c6c-e8def44500de",
   "metadata": {},
   "outputs": [
    {
     "data": {
      "text/plain": [
       "{'January': 31, 'February': 28, 'March': 30}"
      ]
     },
     "execution_count": 85,
     "metadata": {},
     "output_type": "execute_result"
    }
   ],
   "source": [
    "days_per_month"
   ]
  },
  {
   "cell_type": "code",
   "execution_count": 86,
   "id": "b90fcde6-3be9-4267-89f3-1dd8bdace175",
   "metadata": {},
   "outputs": [
    {
     "name": "stdout",
     "output_type": "stream",
     "text": [
      "January has 31 days\n",
      "February has 28 days\n",
      "March has 30 days\n"
     ]
    }
   ],
   "source": [
    "for month, days in days_per_month.items():\n",
    "    print(f'{month} has {days} days')"
   ]
  },
  {
   "cell_type": "code",
   "execution_count": 87,
   "id": "25b92994-9c37-4e45-9b75-a25189627419",
   "metadata": {},
   "outputs": [],
   "source": [
    "roman_numerals = {'I': 1, 'II':2, 'III':3, 'IV':5, 'V':5, 'X':10}"
   ]
  },
  {
   "cell_type": "code",
   "execution_count": 88,
   "id": "3e768743-d752-43d4-b235-c151d6fb86b9",
   "metadata": {},
   "outputs": [
    {
     "data": {
      "text/plain": [
       "5"
      ]
     },
     "execution_count": 88,
     "metadata": {},
     "output_type": "execute_result"
    }
   ],
   "source": [
    "roman_numerals['V']"
   ]
  },
  {
   "cell_type": "code",
   "execution_count": 89,
   "id": "ffac5c58-9c71-4837-a373-dbd17d83a23f",
   "metadata": {},
   "outputs": [],
   "source": [
    "roman_numerals['L'] = 50"
   ]
  },
  {
   "cell_type": "code",
   "execution_count": 90,
   "id": "b26e23a9-c020-4759-9f1a-48975a727fec",
   "metadata": {},
   "outputs": [
    {
     "data": {
      "text/plain": [
       "{'I': 1, 'II': 2, 'III': 3, 'IV': 5, 'V': 5, 'X': 10, 'L': 50}"
      ]
     },
     "execution_count": 90,
     "metadata": {},
     "output_type": "execute_result"
    }
   ],
   "source": [
    "roman_numerals"
   ]
  },
  {
   "cell_type": "code",
   "execution_count": 91,
   "id": "bcb8365d-5764-406f-8ab5-ae45b8d1ad53",
   "metadata": {},
   "outputs": [],
   "source": [
    "grade_book = {            \n",
    "    'Susan': [92, 85, 100], \n",
    "    'Eduardo': [83, 95, 79],\n",
    "    'Azizi': [91, 89, 82],  \n",
    "    'Pantipa': [97, 91, 92] \n",
    "}"
   ]
  },
  {
   "cell_type": "code",
   "execution_count": 92,
   "id": "a5f64266-ac3a-4633-ad16-8ab547545db0",
   "metadata": {},
   "outputs": [],
   "source": [
    "all_grades_total = 0\n",
    "all_grades_count = 0"
   ]
  },
  {
   "cell_type": "code",
   "execution_count": 93,
   "id": "9ebc33b9-cd25-48d4-ac5e-47a6d57823d1",
   "metadata": {},
   "outputs": [
    {
     "name": "stdout",
     "output_type": "stream",
     "text": [
      "Average for Susan is 92.33\n",
      "Average for Eduardo is 85.67\n",
      "Average for Azizi is 87.33\n",
      "Average for Pantipa is 93.33\n"
     ]
    }
   ],
   "source": [
    "for name, grades in grade_book.items():\n",
    "    total = sum(grades)\n",
    "    print(f'Average for {name} is {total/len(grades):.2f}')\n",
    "    all_grades_total += total\n",
    "    all_grades_count += len(grades)"
   ]
  },
  {
   "cell_type": "code",
   "execution_count": 94,
   "id": "3718abb6-b73e-4b38-b1a9-86d93445d17a",
   "metadata": {},
   "outputs": [
    {
     "name": "stdout",
     "output_type": "stream",
     "text": [
      "Class's average is: 89.67\n"
     ]
    }
   ],
   "source": [
    "print(f\"Class's average is: {all_grades_total / all_grades_count:.2f}\")"
   ]
  },
  {
   "cell_type": "code",
   "execution_count": 95,
   "id": "3310ec58-e429-4da0-aee4-04f6a175d29d",
   "metadata": {},
   "outputs": [],
   "source": [
    "text = ('this is sample text with several words ' \n",
    "        'this is more sample text with some different words')"
   ]
  },
  {
   "cell_type": "code",
   "execution_count": 96,
   "id": "c11f9c3b-fd70-48a6-932c-bb9cc1a19841",
   "metadata": {},
   "outputs": [],
   "source": [
    "word_counts = {}"
   ]
  },
  {
   "cell_type": "code",
   "execution_count": 97,
   "id": "a7876712-05fb-4c2c-9031-d64c3d660faa",
   "metadata": {},
   "outputs": [],
   "source": [
    "for word in text.split():\n",
    "    if word in word_counts: \n",
    "        word_counts[word] += 1  # update existing key-value pair\n",
    "    else:\n",
    "        word_counts[word] = 1  # insert new key-value pair"
   ]
  },
  {
   "cell_type": "code",
   "execution_count": 98,
   "id": "1bd78cc1-b033-44d7-9ec8-f2f30f9ad10e",
   "metadata": {},
   "outputs": [
    {
     "name": "stdout",
     "output_type": "stream",
     "text": [
      "WORD        COUNT\n"
     ]
    }
   ],
   "source": [
    "print(f'{\"WORD\":<12}COUNT')"
   ]
  },
  {
   "cell_type": "code",
   "execution_count": 99,
   "id": "627c13e5-b73f-4311-91cd-aa5b9457bf16",
   "metadata": {},
   "outputs": [
    {
     "name": "stdout",
     "output_type": "stream",
     "text": [
      "different   1\n",
      "is          2\n",
      "more        1\n",
      "sample      2\n",
      "several     1\n",
      "some        1\n",
      "text        2\n",
      "this        2\n",
      "with        2\n",
      "words       2\n"
     ]
    }
   ],
   "source": [
    "for word, count in sorted(word_counts.items()):\n",
    "    print(f'{word:<12}{count}')"
   ]
  },
  {
   "cell_type": "code",
   "execution_count": 100,
   "id": "5f9a4595-b256-479b-9fb7-1724074270e8",
   "metadata": {},
   "outputs": [
    {
     "name": "stdout",
     "output_type": "stream",
     "text": [
      "\n",
      "Number of unique words: 10\n"
     ]
    }
   ],
   "source": [
    "print('\\nNumber of unique words:', len(word_counts))"
   ]
  },
  {
   "cell_type": "code",
   "execution_count": 101,
   "id": "3f1aa165-ea70-468e-887b-87dd3c20b8a9",
   "metadata": {},
   "outputs": [],
   "source": [
    "from collections import Counter"
   ]
  },
  {
   "cell_type": "code",
   "execution_count": 108,
   "id": "7e44e0f4-2188-40f4-98e9-190bd5678937",
   "metadata": {},
   "outputs": [],
   "source": [
    "text = ('You have brains in your head. You have feet in your shoes. You can steer yourself Any direction you choose. You’re on your own And you know what you know. And YOU are the guy who’ll decide where to go.'\n",
    "'You’ll get mixed up, of course, as you already know. You’ll get mixed up with many strange birds as you go. So be sure when you step. Step with care and great tact and remember that Life’s A Great Balancing Act.'\n",
    "' will you succeed?! You will, indeed! 98 and ¾ percent guaranteed. KID, YOU’LL MOVE MOUNTAINS!')"
   ]
  },
  {
   "cell_type": "code",
   "execution_count": 109,
   "id": "b5ba46b6-8537-4507-b0a4-fa6e8364c17b",
   "metadata": {},
   "outputs": [],
   "source": [
    "counter = Counter(text.split())"
   ]
  },
  {
   "cell_type": "code",
   "execution_count": 110,
   "id": "b9041fe2-9c14-46d5-9648-1f3dbe7e5baf",
   "metadata": {},
   "outputs": [
    {
     "name": "stdout",
     "output_type": "stream",
     "text": [
      "          98 1\n",
      "           A 1\n",
      "        Act. 1\n",
      "         And 2\n",
      "         Any 1\n",
      "   Balancing 1\n",
      "       Great 1\n",
      "        KID, 1\n",
      "      Life’s 1\n",
      "  MOUNTAINS! 1\n",
      "        MOVE 1\n",
      "          So 1\n",
      "        Step 1\n",
      "         YOU 1\n",
      "      YOU’LL 1\n",
      "         You 4\n",
      "      You’ll 1\n",
      "      You’re 1\n",
      "     already 1\n",
      "         and 3\n",
      "         are 1\n",
      "          as 2\n",
      "          be 1\n",
      "       birds 1\n",
      "      brains 1\n",
      "         can 1\n",
      "        care 1\n",
      "     choose. 1\n",
      "     course, 1\n",
      "      decide 1\n",
      "   direction 1\n",
      "        feet 1\n",
      "         get 2\n",
      "         go. 1\n",
      "   go.You’ll 1\n",
      "       great 1\n",
      " guaranteed. 1\n",
      "         guy 1\n",
      "        have 2\n",
      "       head. 1\n",
      "          in 2\n",
      "     indeed! 1\n",
      "        know 1\n",
      "       know. 2\n",
      "        many 1\n",
      "       mixed 2\n",
      "          of 1\n",
      "          on 1\n",
      "         own 1\n",
      "     percent 1\n",
      "    remember 1\n",
      "      shoes. 1\n",
      "       steer 1\n",
      "       step. 1\n",
      "     strange 1\n",
      "   succeed?! 1\n",
      "        sure 1\n",
      "        tact 1\n",
      "        that 1\n",
      "         the 1\n",
      "          to 1\n",
      "          up 1\n",
      "         up, 1\n",
      "        what 1\n",
      "        when 1\n",
      "       where 1\n",
      "      who’ll 1\n",
      "        will 1\n",
      "       will, 1\n",
      "        with 2\n",
      "         you 7\n",
      "        your 3\n",
      "    yourself 1\n",
      "           ¾ 1\n"
     ]
    }
   ],
   "source": [
    "for word, count in sorted(counter.items()):\n",
    "    print(f'{word:>12} {count}')"
   ]
  },
  {
   "cell_type": "code",
   "execution_count": 111,
   "id": "bddd087e-674b-4d62-93ea-6b7f5524ac22",
   "metadata": {},
   "outputs": [
    {
     "name": "stdout",
     "output_type": "stream",
     "text": [
      "Number of unique keys: 74\n"
     ]
    }
   ],
   "source": [
    "print ('Number of unique keys:', len(counter.keys()))"
   ]
  },
  {
   "cell_type": "code",
   "execution_count": null,
   "id": "48630aa0-76e2-4586-ad81-4e85f91e5dc7",
   "metadata": {},
   "outputs": [],
   "source": []
  }
 ],
 "metadata": {
  "kernelspec": {
   "display_name": "Python 3 (ipykernel)",
   "language": "python",
   "name": "python3"
  },
  "language_info": {
   "codemirror_mode": {
    "name": "ipython",
    "version": 3
   },
   "file_extension": ".py",
   "mimetype": "text/x-python",
   "name": "python",
   "nbconvert_exporter": "python",
   "pygments_lexer": "ipython3",
   "version": "3.9.12"
  }
 },
 "nbformat": 4,
 "nbformat_minor": 5
}
